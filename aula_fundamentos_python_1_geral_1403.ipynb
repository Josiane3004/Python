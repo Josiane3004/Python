{
  "cells": [
    {
      "cell_type": "markdown",
      "metadata": {
        "id": "baMe0v0mxqLL"
      },
      "source": [
        "Exercício 2 Faça um programa que peça dois números inteiros. Imprima a soma desses dois números na tela.\n",
        "\n"
      ]
    },
    {
      "cell_type": "code",
      "execution_count": 1,
      "metadata": {
        "colab": {
          "base_uri": "https://localhost:8080/"
        },
        "id": "Hfp9mFG5u1D-",
        "outputId": "384d5600-6f43-4b81-f2cf-e8ebe1060509"
      },
      "outputs": [
        {
          "name": "stdout",
          "output_type": "stream",
          "text": [
            "Digite número 1: 5\n",
            "Digite número 2: 3\n",
            "8\n"
          ]
        }
      ],
      "source": [
        "num_1 = int(input(\"Digite número 1: \") )\n",
        "num_2 = int(input(\"Digite número 2: \") )\n",
        "resultado = num_1 + num_2\n",
        "print(resultado)"
      ]
    },
    {
      "cell_type": "markdown",
      "metadata": {
        "id": "tHELmYqIyNRz"
      },
      "source": [
        "Exercício 3 Escreva um programa que leia um valor em metros e o exiba convertido em milímetros."
      ]
    },
    {
      "cell_type": "code",
      "execution_count": null,
      "metadata": {
        "colab": {
          "base_uri": "https://localhost:8080/"
        },
        "id": "gVrNvGGMyM3j",
        "outputId": "89799e0b-f06f-44d5-cfb9-f534352852b1"
      },
      "outputs": [
        {
          "name": "stdout",
          "output_type": "stream",
          "text": [
            "Digite o valor em metros: 100\n",
            "100000.0\n"
          ]
        }
      ],
      "source": [
        "metros = float(input(\"Digite o valor em metros: \"))\n",
        "mili = metros * 1000\n",
        "print(mili)\n"
      ]
    },
    {
      "cell_type": "markdown",
      "metadata": {
        "id": "TpFeRTVdzbKE"
      },
      "source": [
        "Exercício 4 Escreva um programa que leia dois números, faça a subtração entre eles, mostre o resultado na tela.\n"
      ]
    },
    {
      "cell_type": "code",
      "execution_count": null,
      "metadata": {
        "colab": {
          "base_uri": "https://localhost:8080/"
        },
        "id": "dQXtrbkCzfGl",
        "outputId": "b98ab541-de77-4ef3-9ce4-648a2c549ccb"
      },
      "outputs": [
        {
          "name": "stdout",
          "output_type": "stream",
          "text": [
            "Digite número 1: 6\n",
            "Digite número 2: 3\n",
            "3\n"
          ]
        }
      ],
      "source": [
        "num_1 = int(input(\"Digite número 1: \") )\n",
        "num_2 = int(input(\"Digite número 2: \") )\n",
        "resultado = num_1 - num_2\n",
        "print(resultado)"
      ]
    },
    {
      "cell_type": "markdown",
      "metadata": {
        "id": "_c_8i4MD0Bv6"
      },
      "source": [
        "Exercício 5 Faça um programa que solicite o preço de uma mercadoria e o percentual de desconto. Exiba o valor do desconto e o preço a pagar.\n"
      ]
    },
    {
      "cell_type": "code",
      "execution_count": null,
      "metadata": {
        "colab": {
          "base_uri": "https://localhost:8080/"
        },
        "id": "_yq6lj_l0FGC",
        "outputId": "c6ef8b84-ae72-4eac-f161-b0d0c27cab5d"
      },
      "outputs": [
        {
          "name": "stdout",
          "output_type": "stream",
          "text": [
            "Digite o valor da mercadoria: 10\n",
            "Digite o desconto: 5\n",
            "0.05\n",
            "9.95\n"
          ]
        }
      ],
      "source": [
        "valor = int(input(\"Digite o valor da mercadoria: \") )\n",
        "desconto = int(input(\"Digite o desconto: \") )\n",
        "valor_desconto = (desconto/100)\n",
        "resultado = (valor -(desconto/100))\n",
        "print(valor_desconto)\n",
        "print(resultado)"
      ]
    },
    {
      "cell_type": "markdown",
      "metadata": {
        "id": "ojE4_Ush1jQ-"
      },
      "source": [
        "Exercício 6 Faça um programa que calcule o aumento de um salário. Ele deve solicitar o valor do salário e a porcentagem do aumento. Exiba o valor do aumento e o valor do novo salário.\n"
      ]
    },
    {
      "cell_type": "code",
      "execution_count": null,
      "metadata": {
        "colab": {
          "base_uri": "https://localhost:8080/"
        },
        "id": "9YuY9vLV1nLm",
        "outputId": "acdcd05f-2f9e-4119-abb6-ec20ffd69578"
      },
      "outputs": [
        {
          "name": "stdout",
          "output_type": "stream",
          "text": [
            "Digite o valor salario: 1200\n",
            "Digite o % de aumento: 10\n",
            "120.0\n",
            "1320.0\n"
          ]
        }
      ],
      "source": [
        "valor_salario = int(input(\"Digite o valor salario: \") )\n",
        "aumento = int(input(\"Digite o % de aumento: \") )\n",
        "percentual_aumento = (aumento/100)\n",
        "valor_aumento = valor_salario * percentual_aumento\n",
        "valor_novo_salario = valor_salario + valor_aumento\n",
        "print(valor_aumento)\n",
        "print(valor_novo_salario)"
      ]
    },
    {
      "cell_type": "markdown",
      "metadata": {
        "id": "T6eiwumd28DO"
      },
      "source": [
        "Exercício 7 Escreva um programa que converta uma temperatura digitada em Graus Celsius em Graus Fahrenheit. A fórmula para essa conversão é: F=(9*C/5)+32 ou F=C*1.8+32"
      ]
    },
    {
      "cell_type": "code",
      "execution_count": null,
      "metadata": {
        "colab": {
          "base_uri": "https://localhost:8080/"
        },
        "id": "cPCXWaCr3AGl",
        "outputId": "be4b0fca-9f98-4d9f-8873-a931bf4340b5"
      },
      "outputs": [
        {
          "name": "stdout",
          "output_type": "stream",
          "text": [
            "Digite a temperatura: 25\n",
            "77.0\n"
          ]
        }
      ],
      "source": [
        "temperatura = int(input(\"Digite a temperatura: \") )\n",
        "graus_celsius = (temperatura * 1.8 + 32)\n",
        "print(graus_celsius)"
      ]
    },
    {
      "cell_type": "markdown",
      "metadata": {
        "id": "O23nfv013_Ul"
      },
      "source": [
        "Exercício 8 Faça um programa que solicite dois valores do tipo float e calcule a média, exiba o resultado na tela."
      ]
    },
    {
      "cell_type": "code",
      "execution_count": null,
      "metadata": {
        "colab": {
          "base_uri": "https://localhost:8080/"
        },
        "id": "FNf0uV-84DSs",
        "outputId": "10d3c4ff-80dd-49af-c1f4-316929ce98b0"
      },
      "outputs": [
        {
          "name": "stdout",
          "output_type": "stream",
          "text": [
            "Digite número 1: 10\n",
            "Digite número 2: 6\n",
            "8.0\n"
          ]
        }
      ],
      "source": [
        "num_1 = float(input(\"Digite número 1: \") )\n",
        "num_2 = float(input(\"Digite número 2: \") )\n",
        "resultado = (num_1 + num_2) / 2\n",
        "print(resultado)"
      ]
    },
    {
      "cell_type": "markdown",
      "metadata": {
        "id": "EQrja_FX4jlT"
      },
      "source": [
        "Exercício 9 Faça um programa que solicite um valor e converta km/h em m/s. Exiba o resultado na tela.\n",
        "\n"
      ]
    },
    {
      "cell_type": "code",
      "execution_count": null,
      "metadata": {
        "colab": {
          "base_uri": "https://localhost:8080/"
        },
        "id": "sA9iGvpO4nYy",
        "outputId": "cdb77cb2-94f9-40b4-be1b-cc18f2c91452"
      },
      "outputs": [
        {
          "name": "stdout",
          "output_type": "stream",
          "text": [
            "Digite a Kilometragem: 10\n",
            "2.7777777777777777\n"
          ]
        }
      ],
      "source": [
        "km = int(input(\"Digite a Kilometragem: \") )\n",
        "ms = (km / 3.6)\n",
        "print(ms)"
      ]
    },
    {
      "cell_type": "markdown",
      "metadata": {
        "id": "xYVGxtu14oDy"
      },
      "source": [
        "Exercício 10 Escreva um programa que peça um valor inteiro, calcule a potenciação do valor elevado a segunda potência. Imprima na tela o resultado.\n"
      ]
    },
    {
      "cell_type": "code",
      "execution_count": null,
      "metadata": {
        "colab": {
          "base_uri": "https://localhost:8080/"
        },
        "id": "X9hFPiAW4sOT",
        "outputId": "db787c50-8771-4948-e800-c89918b36383"
      },
      "outputs": [
        {
          "name": "stdout",
          "output_type": "stream",
          "text": [
            "Digite número 1: 10\n",
            "100\n"
          ]
        }
      ],
      "source": [
        "num_1 = int(input(\"Digite número 1: \") )\n",
        "resultado = (num_1 **2)\n",
        "print(resultado)"
      ]
    },
    {
      "cell_type": "markdown",
      "metadata": {
        "id": "vmXxlDn64sia"
      },
      "source": [
        "Exercício 11 Construa um algoritmo que leia o nome e sobrenome e mostre na tela o nome concatenado com o sobrenome.\n"
      ]
    },
    {
      "cell_type": "code",
      "execution_count": null,
      "metadata": {
        "colab": {
          "base_uri": "https://localhost:8080/"
        },
        "id": "u3xywjcR4wVL",
        "outputId": "7f9e6fc6-30a9-453b-f3d8-772868ab6612"
      },
      "outputs": [
        {
          "name": "stdout",
          "output_type": "stream",
          "text": [
            "Digite seu nome: JOSIANE\n",
            "Digite seu Sobrenome: MAGALHAES\n",
            "Olá, JOSIANE MAGALHAES\n"
          ]
        }
      ],
      "source": [
        "nome = input(\"Digite seu nome: \")\n",
        "sobrenome = input(\"Digite seu Sobrenome: \")\n",
        "print(\"Olá, \" + nome + \" \" + sobrenome )\n",
        "\n"
      ]
    },
    {
      "cell_type": "markdown",
      "metadata": {
        "id": "OnCujLZl4w5y"
      },
      "source": [
        "Exercício 12 Faça um programa que realize a soma, subtração, multiplicação e divisão a partir da entrada de dois números, mostre todos os resultados na tela."
      ]
    },
    {
      "cell_type": "code",
      "execution_count": null,
      "metadata": {
        "colab": {
          "base_uri": "https://localhost:8080/"
        },
        "id": "-apbModI40Oj",
        "outputId": "9c51a582-af72-479a-cd31-5020d5934ca5"
      },
      "outputs": [
        {
          "name": "stdout",
          "output_type": "stream",
          "text": [
            "Informe o valor 1: 50\n",
            "Informe o valor 2: 30\n",
            "resutado da soma = 80\n",
            "resutado da subtracao = 20\n",
            "resutado da multiplicacao = 1500\n",
            "resutado da divisao = 1\n"
          ]
        }
      ],
      "source": [
        "valor1 = int(input(\"Informe o valor 1: \"))\n",
        "valor2 = int(input(\"Informe o valor 2: \"))\n",
        "soma = valor1 + valor2\n",
        "sub = (valor1 - valor2)\n",
        "multiplicacao = valor1 * valor2\n",
        "divisao = valor1 / valor2\n",
        "print(f\"resutado da soma = {int(soma)}\")\n",
        "print(f\"resutado da subtracao = {int(sub)}\")\n",
        "print(f\"resutado da multiplicacao = {int(multiplicacao)}\")\n",
        "print(f\"resutado da divisao = {int(divisao)}\")"
      ]
    },
    {
      "cell_type": "markdown",
      "metadata": {
        "id": "SgPthM-D40oC"
      },
      "source": [
        "Exercício 13 Faça um programa que calcule o IMC(Índice de Massa Corporal) e mostre o resultado na tela, utilize a tabela de interpretação do IMC em anexo, e exiba a Classificação e o Grau de Obesidade. A fórmula para o calculo é: IMC=peso/(altura * altura).\n"
      ]
    },
    {
      "cell_type": "code",
      "execution_count": null,
      "metadata": {
        "colab": {
          "base_uri": "https://localhost:8080/"
        },
        "id": "8BY9bQ1w44NK",
        "outputId": "e4807c2f-8047-43f1-bbcf-2ba68e939c08"
      },
      "outputs": [
        {
          "name": "stdout",
          "output_type": "stream",
          "text": [
            "Informe sua altura: 1.61\n",
            "Informe seu peso: 65\n",
            "Resultado:  25.08\n",
            "VOCÊ É GORDOOOOOOO\n"
          ]
        }
      ],
      "source": [
        "altura = float(input(\"Informe sua altura: \"))\n",
        "peso = float(input(\"Informe seu peso: \"))\n",
        "\n",
        "#processamento\n",
        "imc = (peso / (altura*altura))\n",
        "\n",
        "#saida\n",
        "print(f\"Resultado:  {round (imc,2)}\")\n",
        "if imc > 25:\n",
        "   print (\"VOCÊ É GORDOOOOOOO\")\n",
        "else:\n",
        "  print(\"VOCÊ É MAGROOOO\")"
      ]
    },
    {
      "cell_type": "markdown",
      "metadata": {
        "id": "lHBdonM35DFJ"
      },
      "source": [
        "Exercício 14 Faça um algoritmo que leia três notas de um aluno e calcule a média final deste aluno.\n"
      ]
    },
    {
      "cell_type": "code",
      "execution_count": null,
      "metadata": {
        "colab": {
          "base_uri": "https://localhost:8080/"
        },
        "id": "Nn9-riHo5GYr",
        "outputId": "f348b89f-f967-4368-e7ee-ad80b4f53af8"
      },
      "outputs": [
        {
          "name": "stdout",
          "output_type": "stream",
          "text": [
            "Informe nota 1: 3\n",
            "Informe nota 2: 5\n",
            "Informe nota 3: 0\n",
            "Resultado:  8.0\n"
          ]
        }
      ],
      "source": [
        "nota1 = int(input(\"Informe nota 1: \"))\n",
        "nota2 = int(input(\"Informe nota 2: \"))\n",
        "nota3 = int(input(\"Informe nota 3: \"))\n",
        "media = nota1 + nota2 + nota3 / 3\n",
        "print(f\"Resultado:  {round (media,2)}\")\n"
      ]
    },
    {
      "cell_type": "markdown",
      "metadata": {
        "id": "py-AiQqz5G8J"
      },
      "source": [
        "Exercício 15 Faça um algoritmo leia o valor e calcule a área de um quadrado, imprima o resultado na tela.\n"
      ]
    },
    {
      "cell_type": "code",
      "execution_count": null,
      "metadata": {
        "colab": {
          "base_uri": "https://localhost:8080/"
        },
        "id": "x0URFWLq5JU8",
        "outputId": "405c0d81-e003-4a6d-d1de-441fdd9e4816"
      },
      "outputs": [
        {
          "name": "stdout",
          "output_type": "stream",
          "text": [
            "Informe comprimento do quadrado : 4\n",
            "Resultado:  16\n"
          ]
        }
      ],
      "source": [
        "lado = int(input(\"Informe comprimento do quadrado : \"))\n",
        "area = lado * lado\n",
        "print(f\"Resultado:  {round (area,2)}\")"
      ]
    },
    {
      "cell_type": "markdown",
      "metadata": {
        "id": "jcMa20uY5KAx"
      },
      "source": [
        "Exercício 16 Faça um programa computacional que calcule a área de uma circunferência e exiba a medida da área calculada."
      ]
    },
    {
      "cell_type": "code",
      "execution_count": null,
      "metadata": {
        "colab": {
          "base_uri": "https://localhost:8080/"
        },
        "id": "yGe5yRG-5MvB",
        "outputId": "0931dc33-f5cb-48ec-c559-05f1b1d7adf6"
      },
      "outputs": [
        {
          "name": "stdout",
          "output_type": "stream",
          "text": [
            "Informe area de circunferencia : 30\n",
            "Resultado:  188.4\n"
          ]
        }
      ],
      "source": [
        "circunferencia = int(input(\"Informe area de circunferencia : \"))\n",
        "pi = 3.14\n",
        "area = ((2 *circunferencia) * pi)\n",
        "print(f\"Resultado:  {float(area)}\")"
      ]
    },
    {
      "cell_type": "markdown",
      "metadata": {
        "id": "0AFHiE5S5NTZ"
      },
      "source": [
        "Exercício 17 Desenvolva um software que calcule o volume de uma lata de refrigerante imprimir o resultado na tela."
      ]
    },
    {
      "cell_type": "code",
      "execution_count": null,
      "metadata": {
        "colab": {
          "base_uri": "https://localhost:8080/"
        },
        "id": "rYADjTAJ5PxT",
        "outputId": "9111901a-4d34-4f8d-eb7f-2bd62cceeeab"
      },
      "outputs": [
        {
          "name": "stdout",
          "output_type": "stream",
          "text": [
            "Informe a altura : 15\n",
            "Informe o raio : 3\n",
            "Resultado:  141.3\n"
          ]
        }
      ],
      "source": [
        "altura = int(input(\"Informe a altura : \"))\n",
        "raio = int(input(\"Informe o raio : \"))\n",
        "pi = 3.14\n",
        "volume = ((altura * raio) * pi)\n",
        "print(f\"Resultado:  {float(volume)}\")"
      ]
    },
    {
      "cell_type": "markdown",
      "metadata": {
        "id": "ung728hvuYfI"
      },
      "source": [
        "Exercício 18 Elaborar um programa que leia um valor numérico inteiro, apresentar uma mensagem informativa se o valor fornecido é par ou ímpar.\n"
      ]
    },
    {
      "cell_type": "code",
      "execution_count": 3,
      "metadata": {
        "colab": {
          "base_uri": "https://localhost:8080/"
        },
        "id": "4D6Fe66tulpg",
        "outputId": "47a70035-63b7-4e6a-a124-eea9976f0cd9"
      },
      "outputs": [
        {
          "name": "stdout",
          "output_type": "stream",
          "text": [
            "Digite um numero: 2\n",
            "2 é par\n"
          ]
        }
      ],
      "source": [
        "numero = int(input(\"Digite um numero: \") )\n",
        "resto = numero % 2\n",
        "if resto == 0:\n",
        "    print(str(numero) + \" é par\")\n",
        "else:\n",
        "    print(str(numero) + \" é impar\")\n"
      ]
    },
    {
      "cell_type": "markdown",
      "metadata": {
        "id": "n0WTVv2WvXOJ"
      },
      "source": [
        "Exercício 19 Para ter acesso a fila preferencial você deve ser idoso, gestante ou cadeirante, faça um programa que peça um valor inteiro de 1 a 5 (1 Cadeirante, 2 Gestante, 3 Idoso, 4 Jovem, 5 Caçador de Pokémon) e imprima se a pessoa tem direito à fila prioritária, caso contrário imprima não tem direito a fila prioritária.\n"
      ]
    },
    {
      "cell_type": "code",
      "execution_count": 17,
      "metadata": {
        "colab": {
          "base_uri": "https://localhost:8080/"
        },
        "id": "dX8NHvuzvehG",
        "outputId": "840ffaf4-9ba9-4ef6-e37e-b2f898d0e597"
      },
      "outputs": [
        {
          "name": "stdout",
          "output_type": "stream",
          "text": [
            "Digite um numero: 6\n",
            "Você não tem direito à fila prioritária \n"
          ]
        }
      ],
      "source": [
        "numero = int(input(\"Digite um numero: \") )\n",
        "Cadeirante = 1\n",
        "Gestante = 2\n",
        "Idoso = 3\n",
        "Jovem = 4\n",
        "cacador = 5\n",
        "if numero == Cadeirante:\n",
        "    print(\"Você tem direito à fila prioritária Cadeirante\")\n",
        "elif numero == Gestante:\n",
        "    print(\"Você tem direito à fila prioritária Gestante\")\n",
        "elif numero == Idoso:\n",
        "    print(\"Você tem direito à fila prioritária Idoso\")\n",
        "else:\n",
        "    print(\"Você não tem direito à fila prioritária \")"
      ]
    },
    {
      "cell_type": "markdown",
      "metadata": {
        "id": "1liwd9JPxWEd"
      },
      "source": [
        "Exercício 20 Faça um programa que pergunte se seu animal de estimação está com fome, caso não estiver com fome imprimir: \"Levar meu animalzinho para passear\", caso contrário, perguntar se tem ração, caso sim imprimir: \"Alimentar meu animalzinho\" caso contrário imprimir: \"Tenho que comprar ração\"."
      ]
    },
    {
      "cell_type": "code",
      "execution_count": 25,
      "metadata": {
        "colab": {
          "base_uri": "https://localhost:8080/"
        },
        "id": "j-DExw6Bxagt",
        "outputId": "6e085646-b298-4b93-8ec3-2464693fe2cb"
      },
      "outputs": [
        {
          "name": "stdout",
          "output_type": "stream",
          "text": [
            "Informe se o seu animal esta com fome S/N: n\n",
            "Levar meu animalzinho para passear\n"
          ]
        }
      ],
      "source": [
        "fome = (input(\"Informe se o seu animal esta com fome S/N: \"))\n",
        "if fome == \"N\" or fome == \"n\":\n",
        "    print(\"Levar meu animalzinho para passear\")\n",
        "elif fome == \"S\" or fome == \"s\":\n",
        "    fome2 = (input(\"Informe se o seu animal tem ração S/N: \"))\n",
        "    if fome2 == \"N\" or fome2 == \"n\":\n",
        "       print(\"Tenho que comprar ração\")\n",
        "    else:\n",
        "        print(\"Alimentar meu animalzinho\")\n"
      ]
    },
    {
      "cell_type": "markdown",
      "metadata": {
        "id": "Y9m5jpKN1EPi"
      },
      "source": [
        "Exercício 21 Desenvolver um programa que leia um valor numérico inteiro entre os valores 1 e 12 e apresentar por extenso o nome do mês correspondente ao valor entrado. Caso sejam fornecidos valores menores que 1 e maiores que 12, o programa deve apresentar a mensagem \"Valor inválido\". Utilizar neste exercício: Condicional, Lista, Tupla, ou Dicionário."
      ]
    },
    {
      "cell_type": "code",
      "execution_count": 31,
      "metadata": {
        "colab": {
          "base_uri": "https://localhost:8080/"
        },
        "id": "nPkwymZB1IUL",
        "outputId": "bce80477-0b49-4555-9c80-b94602701d54"
      },
      "outputs": [
        {
          "name": "stdout",
          "output_type": "stream",
          "text": [
            "Digite um numero: 5\n",
            "Maio\n"
          ]
        }
      ],
      "source": [
        "numero = int(input(\"Digite um numero de 1 a 12: \") )\n",
        "if numero >= 1 and numero <= 12:\n",
        "    meses = [\"Janeiro\", \"Fevereiro\", \"Março\", \"Abril\", \"Maio\", \"Junho\", \"Julho\", \"Agosto\", \"Setembro\", \"Outubro\", \"Novembro\", \"Dezembro\"]\n",
        "    if numero == 1:\n",
        "        print(meses[0])\n",
        "    elif numero == 2:\n",
        "        print(meses[1])\n",
        "    elif numero == 3:\n",
        "        print(meses[2])\n",
        "    elif numero == 4:\n",
        "        print(meses[3])\n",
        "    elif numero == 5:\n",
        "        print(meses[4])\n",
        "    elif numero == 6:\n",
        "        print(meses[5])\n",
        "    elif numero == 7:\n",
        "        print(meses[6])\n",
        "    elif numero == 8:\n",
        "        print(meses[7])\n",
        "    elif numero == 9:\n",
        "        print(meses[8])\n",
        "    elif numero == 10:\n",
        "        print(meses[9])\n",
        "    elif numero == 11:\n",
        "        print(meses[10])\n",
        "    elif numero == 12:\n",
        "        print(meses[11])\n",
        "else:\n",
        "    print(\"Valor inválido\")"
      ]
    },
    {
      "cell_type": "code",
      "execution_count": null,
      "metadata": {
        "id": "wIIGhqjD5zYA"
      },
      "outputs": [],
      "source": [
        "Exercício 22 Escreva um jogo da adivinhação que peça um número inteiro de 1 à 10, se o jogador adivinhar mostre a mensagem \"Parabéns, você acertou!\", caso contrário \"Que pena você errou, tente outra vez\"."
      ]
    },
    {
      "cell_type": "code",
      "execution_count": 37,
      "metadata": {
        "colab": {
          "base_uri": "https://localhost:8080/"
        },
        "id": "q_QYNJRr55e_",
        "outputId": "0d4ec673-7fe2-4137-c599-5d9a2d52cbfc"
      },
      "outputs": [
        {
          "name": "stdout",
          "output_type": "stream",
          "text": [
            "Digite um numero de 1 a 10: 15\n",
            "Valor inválido\n"
          ]
        }
      ],
      "source": [
        "numero = int(input(\"Digite um numero de 1 a 10: \") )\n",
        "acertou = 5\n",
        "if numero >= 1 and numero <= 10:\n",
        "    if numero == acertou:\n",
        "        print(\"Parabéns, você acertou!\")\n",
        "    else:\n",
        "        print(\"Que pena você errou, tente outra vez\")\n",
        "else:\n",
        "        print(\"Valor inválido\")\n"
      ]
    }
  ],
  "metadata": {
    "colab": {
      "provenance": []
    },
    "kernelspec": {
      "display_name": "Python 3",
      "name": "python3"
    },
    "language_info": {
      "name": "python"
    }
  },
  "nbformat": 4,
  "nbformat_minor": 0
}
