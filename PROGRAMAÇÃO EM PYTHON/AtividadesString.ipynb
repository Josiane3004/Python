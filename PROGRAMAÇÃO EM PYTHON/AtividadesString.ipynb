{
  "nbformat": 4,
  "nbformat_minor": 0,
  "metadata": {
    "colab": {
      "provenance": []
    },
    "kernelspec": {
      "name": "python3",
      "display_name": "Python 3"
    },
    "language_info": {
      "name": "python"
    }
  },
  "cells": [
    {
      "cell_type": "code",
      "source": [],
      "metadata": {
        "id": "S6jENaWyo2nf"
      },
      "execution_count": null,
      "outputs": []
    },
    {
      "cell_type": "markdown",
      "source": [
        "1) Exercicio1 - Informar nome completo\n",
        "\n",
        "*   Trazer Tudo maiusculo\n",
        "*   Trazer em minusculo\n",
        "*   Quantas letras tem ao todo\n",
        "*   Quantas letras tem ao todo, sem espaços\n",
        "*   Qual o primeiro nome ?\n",
        "*   Quantas letras eu tenho no primeiro nome?\n",
        "*   Qual o ultimo nome?"
      ],
      "metadata": {
        "id": "Mp3DPUbcn6sW"
      }
    },
    {
      "cell_type": "code",
      "source": [
        "nomeCompleto = input(\"Informe seu nome completo: \")\n",
        "print(nomeCompleto.upper());\n",
        "print(nomeCompleto.lower());\n",
        "print(len(nomeCompleto));\n",
        "print(len(nomeCompleto.replace(\" \",\"\")));\n",
        "print(nomeCompleto.split()[0]);\n",
        "print(len(nomeCompleto.split()[0]));\n",
        "print(nomeCompleto.split()[len(nomeCompleto.split())-1]);\n",
        "print(nomeCompleto.split()[-1]);"
      ],
      "metadata": {
        "colab": {
          "base_uri": "https://localhost:8080/"
        },
        "id": "5JdFTY2Zn7Vd",
        "outputId": "bfb54e3a-69a4-4318-c92f-c965ec96b5d4"
      },
      "execution_count": 8,
      "outputs": [
        {
          "output_type": "stream",
          "name": "stdout",
          "text": [
            "Informe seu nome completo: JOSIANE ARAUJO MAGALHAES\n",
            "JOSIANE ARAUJO MAGALHAES\n",
            "josiane araujo magalhaes\n",
            "24\n",
            "22\n",
            "JOSIANE\n",
            "7\n",
            "MAGALHAES\n",
            "MAGALHAES\n"
          ]
        }
      ]
    },
    {
      "cell_type": "markdown",
      "source": [
        "EXERCICIO 2\n",
        "\n",
        "*   Digitar data de Nascimento\n",
        "*   Exibir separado dia mes e ano"
      ],
      "metadata": {
        "id": "AV4hLcSisCwV"
      }
    },
    {
      "cell_type": "code",
      "source": [
        "dataNascimento = input(\"Informe sua data de nascimento(dd/mm/yyyy): \")\n",
        "print(dataNascimento.split(\"/\")[0]);\n",
        "print(dataNascimento.split(\"/\")[1]);\n",
        "print(dataNascimento.split(\"/\")[2]);\n",
        "print(dataNascimento[0:2]);\n",
        "print(dataNascimento[:2]);\n",
        "print(dataNascimento[3:5]);\n",
        "print(dataNascimento[6:10]);\n",
        "print(dataNascimento[6:]);\n"
      ],
      "metadata": {
        "colab": {
          "base_uri": "https://localhost:8080/"
        },
        "id": "5W9pRUFqsDUU",
        "outputId": "bfad6da9-c6c9-4b39-ab59-18c3abb1869f"
      },
      "execution_count": 12,
      "outputs": [
        {
          "output_type": "stream",
          "name": "stdout",
          "text": [
            "Informe sua data de nascimento(dd/mm/aaaa): 12/03/1986\n",
            "12\n",
            "03\n",
            "1986\n",
            "12\n",
            "12\n",
            "03\n",
            "1986\n",
            "1986\n"
          ]
        }
      ]
    },
    {
      "cell_type": "markdown",
      "source": [
        "Exercicio 3\n",
        "\n",
        "*   Ler nome de uma cidade\n",
        "*   Verificar se o nome da cidade tem o nome de SANTO\n",
        "\n"
      ],
      "metadata": {
        "id": "-Lo3mtsXuoq9"
      }
    },
    {
      "cell_type": "code",
      "source": [
        "cidade = input(\"Informe o nome de uma cidade: \")\n",
        "print(cidade.startswith(\"Santo \"));\n",
        "print(\"Santo\" in cidade.split()[0]);\n",
        "print(\"Santo\" == cidade.split()[0]);"
      ],
      "metadata": {
        "colab": {
          "base_uri": "https://localhost:8080/"
        },
        "id": "zgKfo5U_upW8",
        "outputId": "4150aa60-5464-4510-96b0-1e84d1c7e731"
      },
      "execution_count": 18,
      "outputs": [
        {
          "output_type": "stream",
          "name": "stdout",
          "text": [
            "Informe o nome de uma cidade: Santos\n",
            "False\n",
            "True\n",
            "False\n"
          ]
        }
      ]
    },
    {
      "cell_type": "markdown",
      "source": [
        "Exercicio4\n",
        "\n",
        "*   Digitar Nome\n",
        "*   Sobrenome Silva esta presente? (Maiusculo ou Minusculo)\n",
        "\n"
      ],
      "metadata": {
        "id": "zacIEnREwp12"
      }
    },
    {
      "cell_type": "code",
      "source": [
        "Nome = input(\"Informe o seu nome e sobrenome: \");\n",
        "print(\"silva\" in Nome.lower().strip().split());"
      ],
      "metadata": {
        "colab": {
          "base_uri": "https://localhost:8080/"
        },
        "id": "BJMCB4rUwqQO",
        "outputId": "727c7992-f0e7-4044-a425-9736c94d5ad5"
      },
      "execution_count": 28,
      "outputs": [
        {
          "output_type": "stream",
          "name": "stdout",
          "text": [
            "Informe o seu nome e sobrenome: JOSIANE SILVAS MAGALHAES\n",
            "False\n"
          ]
        }
      ]
    },
    {
      "cell_type": "markdown",
      "source": [
        "Exercicio5\n",
        "\n",
        "*   Uma frase para o usuario\n",
        "*   Verificar quantas vezes a letra \"A\" aparece\n",
        "*   Qual a primeira vez que a letra \"A\" aparece\n",
        "*   Qual a ultima vez que a letra \"A\" aparece\n",
        "\n",
        "\n",
        "\n"
      ],
      "metadata": {
        "id": "ohyhjNnmzt-V"
      }
    },
    {
      "cell_type": "code",
      "source": [
        "frase = input(\"Informe uma frase: \").upper();\n",
        "print(frase.count(\"A\"));\n",
        "print(frase.find(\"A\"));\n",
        "print(frase.rfind(\"A\"));"
      ],
      "metadata": {
        "colab": {
          "base_uri": "https://localhost:8080/"
        },
        "id": "o3Y2j642zuSk",
        "outputId": "08a59e96-7d1c-4703-f07f-2038f0349857"
      },
      "execution_count": 30,
      "outputs": [
        {
          "output_type": "stream",
          "name": "stdout",
          "text": [
            "Informe uma frase: josiane araujo magalhaes\n",
            "6\n",
            "4\n",
            "21\n"
          ]
        }
      ]
    }
  ]
}