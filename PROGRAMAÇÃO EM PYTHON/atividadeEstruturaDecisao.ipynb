{
  "nbformat": 4,
  "nbformat_minor": 0,
  "metadata": {
    "colab": {
      "provenance": []
    },
    "kernelspec": {
      "name": "python3",
      "display_name": "Python 3"
    },
    "language_info": {
      "name": "python"
    }
  },
  "cells": [
    {
      "cell_type": "markdown",
      "source": [
        "Exercício 2 - Faça um programa que peça dois números inteiros e imprima o maior deles ou se são iguais. Imprima na tela o resultado."
      ],
      "metadata": {
        "id": "EnEkFewv8WbK"
      }
    },
    {
      "cell_type": "code",
      "execution_count": 2,
      "metadata": {
        "colab": {
          "base_uri": "https://localhost:8080/"
        },
        "id": "Ly6Ghj_V8I_f",
        "outputId": "48a5cb80-b8fe-4518-a82e-5a104a613feb"
      },
      "outputs": [
        {
          "output_type": "stream",
          "name": "stdout",
          "text": [
            "Digite o primeiro numero: 5\n",
            "Digite o segundo numero: 5\n",
            "O primeiro numero digitado foi:  5\n",
            "O segundo numero digitado foi:  5\n",
            "Os numeros são iguais\n"
          ]
        }
      ],
      "source": [
        "Numero1 = int(input(\"Digite o primeiro numero: \"))\n",
        "Numero2 = int(input(\"Digite o segundo numero: \"))\n",
        "print(f\"O primeiro numero digitado foi: \", Numero1)\n",
        "print(f\"O segundo numero digitado foi: \" , Numero2)\n",
        "if Numero1 > Numero2:\n",
        "  print(\"O primeiro numero é maior que o segundo\")\n",
        "elif Numero1 == Numero2:\n",
        "  print(\"Os numeros são iguais\")\n",
        "else:\n",
        "  print(\"O segundo numero é maior que o primeiro\")\n"
      ]
    },
    {
      "cell_type": "markdown",
      "source": [
        "Exercício 3 - Faça um programa que peça um número inteiro e diga se ele é par ou ímpar. Use o operador % (resto da divisão) e uma estrutura condicional. Dica: (num % 2) verifica se a divisão tem resto. Imprima na tela o resultado."
      ],
      "metadata": {
        "id": "FMB6BH-G8bKB"
      }
    },
    {
      "cell_type": "code",
      "source": [
        "numero = int(input(\"Digite um numero: \") )\n",
        "resto = numero % 2\n",
        "if resto == 0:\n",
        "    print(str(numero) + \" é par\")\n",
        "else:\n",
        "    print(str(numero) + \" é impar\")\n"
      ],
      "metadata": {
        "colab": {
          "base_uri": "https://localhost:8080/"
        },
        "id": "-LvAVYN-8ejq",
        "outputId": "6678bc01-082e-4227-87e4-a3b7719c201b"
      },
      "execution_count": 7,
      "outputs": [
        {
          "output_type": "stream",
          "name": "stdout",
          "text": [
            "Digite um numero: 5\n",
            "5 é impar\n"
          ]
        }
      ]
    },
    {
      "cell_type": "markdown",
      "source": [
        "Exercício 4 - Faça um programa que peça três números inteiros e imprima o maior e o menor deles. Use estruturas condicionais. Imprima na tela o resultado."
      ],
      "metadata": {
        "id": "5luwKo7b8e5Z"
      }
    },
    {
      "cell_type": "code",
      "source": [
        "numero1 = int(input(\"Digite o primeiro numero: \") )\n",
        "numero2 = int(input(\"Digite o segundo  numero: \") )\n",
        "numero3 = int(input(\"Digite o terceiro numero: \") )\n",
        "if numero1 > numero2 and numero1 > numero3:\n",
        "  m_maior = numero1\n",
        "  if numero2 < numero3:\n",
        "      m_menor = numero2\n",
        "  else: m_menor = numero3\n",
        "elif numero2 > numero1 and numero2 > numero3:\n",
        "  m_maior = numero2\n",
        "  if numero1 < numero3:\n",
        "      m_menor = numero1\n",
        "  else: m_menor = numero3\n",
        "elif numero3 > numero1 and numero3 > numero2:\n",
        "  m_maior = numero3\n",
        "  if numero1 < numero2:\n",
        "      m_menor = numero1\n",
        "  else: m_menor = numero2\n",
        "\n",
        "print(f\"Esse é o menor numero {m_menor} \")\n",
        "print(f\"Esse é o maior numero {m_maior} \")\n"
      ],
      "metadata": {
        "colab": {
          "base_uri": "https://localhost:8080/"
        },
        "id": "fS0FDQO08h2A",
        "outputId": "1a026a0e-2175-42eb-ecee-b23586736e16"
      },
      "execution_count": 3,
      "outputs": [
        {
          "output_type": "stream",
          "name": "stdout",
          "text": [
            "Digite o primeiro numero: 5\n",
            "Digite o segundo  numero: 1\n",
            "Digite o terceiro numero: 3\n",
            "Esse é o menor numero 1 \n",
            "Esse é o maior numero 5 \n"
          ]
        }
      ]
    },
    {
      "cell_type": "markdown",
      "source": [
        "Exercício 5 - Faça um programa que calcule a média de um aluno que faz duas provas. O programa deve pedir as duas notas, calcular a média e imprimir se o aluno foi aprovado, reprovado ou está em exame. Considere a média para aprovação 6.0. Imprima na tela o resultado."
      ],
      "metadata": {
        "id": "j9yBn4g88iRR"
      }
    },
    {
      "cell_type": "code",
      "source": [
        "nota1 = int(input(\"Informe nota 1: \"))\n",
        "nota2 = int(input(\"Informe nota 2: \"))\n",
        "aprovado = 6\n",
        "media = ((nota1 + nota2) / 2)\n",
        "print(f\"Nota 1: {nota1}\")\n",
        "print(f\"Nota 2: {nota2}\")\n",
        "print(f\"Resultado:  {media}\")\n",
        "if media >= aprovado:\n",
        "  print(\"Aprovado\")\n",
        "elif media < aprovado:\n",
        "  print(\"Reprovado\")"
      ],
      "metadata": {
        "colab": {
          "base_uri": "https://localhost:8080/"
        },
        "id": "b6V2EHB58lKw",
        "outputId": "ab350423-49b8-44ad-efa4-7dc4d021d82b"
      },
      "execution_count": 6,
      "outputs": [
        {
          "output_type": "stream",
          "name": "stdout",
          "text": [
            "Informe nota 1: 9\n",
            "Informe nota 2: 8\n",
            "Nota 1: 9\n",
            "Nota 2: 8\n",
            "Resultado:  8.5\n",
            "Aprovado\n"
          ]
        }
      ]
    },
    {
      "cell_type": "markdown",
      "source": [
        "Exercício 6 - Faça um programa que peça o dia da semana (domingo a sábado) em número inteiro e imprima o dia por extenso. Use um comando condicional. Imprima na tela o resultado."
      ],
      "metadata": {
        "id": "EuJTXjdP8liB"
      }
    },
    {
      "cell_type": "code",
      "source": [
        "semana = (input(\"Digite o dia da semana: \"))\n",
        "if semana == \"1\":\n",
        "  print(\"Domingo\")\n",
        "elif semana == \"2\":\n",
        "  print(\"Segunda\")\n",
        "elif semana == \"3\":\n",
        "  print(\"Terça\")\n",
        "elif semana == \"4\":\n",
        "  print(\"Quarta\")\n",
        "elif semana == \"5\":\n",
        "  print(\"Quinta\")\n",
        "elif semana == \"6\":\n",
        "  print(\"Sexta\")\n",
        "elif semana == \"7\":\n",
        "  print(\"Sabado\")\n",
        "else:\n",
        "  print(\"Dia invalido\")"
      ],
      "metadata": {
        "colab": {
          "base_uri": "https://localhost:8080/"
        },
        "id": "H9R_U4Z28oqK",
        "outputId": "9dd2b64f-70c0-4070-941e-66da249b6949"
      },
      "execution_count": 49,
      "outputs": [
        {
          "output_type": "stream",
          "name": "stdout",
          "text": [
            "Digite o dia da semana: 5\n",
            "Quinta\n"
          ]
        }
      ]
    },
    {
      "cell_type": "markdown",
      "source": [
        "Exercício 7 - Faça um programa que receba um número inteiro e diga se ele é divisível por 2 e 3, só por 2, só por 3, ou se não é divisível por 2 e nem por 3. Use estruturas condicionais. Imprima na tela o resultado."
      ],
      "metadata": {
        "id": "9nvGeyQk8pEZ"
      }
    },
    {
      "cell_type": "code",
      "source": [
        "Numero = int(input(\"Digite um numero: \") )\n",
        "resto = Numero % 2\n",
        "resto2 = Numero % 3\n",
        "if resto == 0 and resto2 == 0:\n",
        "  print(\"O numero é divisivel por 2 e 3\")\n",
        "elif resto == 0:\n",
        "  print(\"O numero é divisivel por 2\")\n",
        "elif resto2 == 0:\n",
        "  print(\"O numero é divisivel por 3\")\n",
        "else:\n",
        "  print(\"O numero não é divisivel por 2 e 3\")"
      ],
      "metadata": {
        "colab": {
          "base_uri": "https://localhost:8080/"
        },
        "id": "chRpr8ga8sHh",
        "outputId": "8425e962-93bd-4500-d53c-0dd9f24b7669"
      },
      "execution_count": 45,
      "outputs": [
        {
          "output_type": "stream",
          "name": "stdout",
          "text": [
            "Digite um numero: 11\n",
            "O numero não é divisivel por 2 e 3\n"
          ]
        }
      ]
    },
    {
      "cell_type": "markdown",
      "source": [
        "Exercício 8 - Faça um programa que receba duas notas, calcule a média e imprima a situação final (Aprovado com média maior ou igual a 7.0, Reprovado com média menor que 4.0 ou Exame com média entre 4.0 e 7.0). Imprima na tela o resultado."
      ],
      "metadata": {
        "id": "puuRldeD8spy"
      }
    },
    {
      "cell_type": "code",
      "source": [
        "nota1 = int(input(\"Informe nota 1: \"))\n",
        "nota2 = int(input(\"Informe nota 2: \"))\n",
        "aprovado = 7\n",
        "reprovado = 4\n",
        "exame = 5\n",
        "media = ((nota1 + nota2) / 2)\n",
        "print(f\"Nota 1: {nota1}\")\n",
        "print(f\"Nota 2: {nota2}\")\n",
        "print(f\"Resultado:  {media}\")\n",
        "if media >= aprovado:\n",
        "  print(\"Aprovado\")\n",
        "elif media <= reprovado:\n",
        "  print(\"Reprovado\")\n",
        "elif media <= exame:\n",
        "  print(\"Você esta de exame\")"
      ],
      "metadata": {
        "colab": {
          "base_uri": "https://localhost:8080/"
        },
        "id": "x4da_OwZ8v3B",
        "outputId": "4459b594-5f99-4d6a-e8bb-b2e0f8286a55"
      },
      "execution_count": 15,
      "outputs": [
        {
          "output_type": "stream",
          "name": "stdout",
          "text": [
            "Informe nota 1: 3\n",
            "Informe nota 2: 2\n",
            "Nota 1: 3\n",
            "Nota 2: 2\n",
            "Resultado:  2.5\n",
            "Reprovado\n"
          ]
        }
      ]
    },
    {
      "cell_type": "markdown",
      "source": [
        "Exercício 9 - Faça um programa que receba o salário de um funcionário e calcule o valor do aumento. Para salários superiores a R$ 1.250,00, calcule um aumento de 10%. Para salários inferiores ou iguais, o aumento é de 15%. Imprima o salário antes e depois do aumento. Imprima na tela o resultado."
      ],
      "metadata": {
        "id": "I5R_l97u8whJ"
      }
    },
    {
      "cell_type": "code",
      "source": [
        "valor_salario = int(input(\"Digite o valor salario: \") )\n",
        "salario_superior = 1250\n",
        "print(f\"O valor do salario digitado é: \" , valor_salario)\n",
        "if valor_salario >= salario_superior:\n",
        "  print(f\"O novo salario com o aumento de 10% é : \", ((valor_salario * 10) /100)+ valor_salario)\n",
        "elif valor_salario <= salario_superior:\n",
        "  print(f\"O novo salario com o aumento de 15% é : \", ((valor_salario * 15) /100)+ valor_salario)"
      ],
      "metadata": {
        "colab": {
          "base_uri": "https://localhost:8080/"
        },
        "id": "lMWIspBq8zxp",
        "outputId": "25944986-4641-419b-a0d4-f9f274550f58"
      },
      "execution_count": 25,
      "outputs": [
        {
          "output_type": "stream",
          "name": "stdout",
          "text": [
            "Digite o valor salario: 1200\n",
            "O valor do salario digitado é:  1200\n",
            "O novo salario com o aumento de 15% é :  1380.0\n"
          ]
        }
      ]
    },
    {
      "cell_type": "markdown",
      "source": [
        "Exercício 10 - Faça um programa que leia a idade de uma pessoa, diga se ela é obrigada a votar, se não pode votar ou se é facultativo. Considere que o voto é obrigatório para pessoas entre 18 e 70 anos. Acima de 16 ou acima de 70 facultativo."
      ],
      "metadata": {
        "id": "aasvmxcY80Xy"
      }
    },
    {
      "cell_type": "code",
      "source": [
        "idade = int(input(\"Digite sua idade: \"))\n",
        "if idade >= 18 and idade <= 70:\n",
        "  print(\"É obrigatorio a votação!\")\n",
        "elif idade == 16 or idade > 70:\n",
        "  print(\"É facultativo a sua votação!\")"
      ],
      "metadata": {
        "colab": {
          "base_uri": "https://localhost:8080/"
        },
        "id": "VXYzNick82lY",
        "outputId": "1d405420-9e0f-4ecf-95bf-716b7d8982b5"
      },
      "execution_count": 41,
      "outputs": [
        {
          "output_type": "stream",
          "name": "stdout",
          "text": [
            "Digite sua idade: 70\n",
            "É obrigatorio a votação!\n"
          ]
        }
      ]
    }
  ]
}