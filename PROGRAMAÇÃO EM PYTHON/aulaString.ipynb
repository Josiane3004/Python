{
  "nbformat": 4,
  "nbformat_minor": 0,
  "metadata": {
    "colab": {
      "provenance": []
    },
    "kernelspec": {
      "name": "python3",
      "display_name": "Python 3"
    },
    "language_info": {
      "name": "python"
    }
  },
  "cells": [
    {
      "cell_type": "markdown",
      "source": [],
      "metadata": {
        "id": "2g439qrHR1wt"
      }
    },
    {
      "cell_type": "code",
      "source": [
        "#Conta a quantidade de caracter considerando com espaços\n",
        "nome = \"Josiane Magalhaes\"\n",
        "print(len(nome))\n",
        "#Conta quantas letra eu tenho a que eu especifiquei\n",
        "print(nome.count(\"a\"))\n",
        "#Verifica qual a posição que esta\n",
        "print(nome.find(\"Josiane\"))\n",
        "print(nome.find(\"a\"))\n",
        "#Pesquisa do final para o começo\n",
        "print(nome.rfind(\"a\"))\n",
        "#Vai pesquisar se contem no meu texto\n",
        "print(\"Magalhaes\" in nome)\n",
        "print(\"magalhaes\" in nome)\n"
      ],
      "metadata": {
        "colab": {
          "base_uri": "https://localhost:8080/"
        },
        "id": "LiiI05i_R39N",
        "outputId": "4aeb7980-8c36-4093-fa4d-ab50c3fd4986"
      },
      "execution_count": 8,
      "outputs": [
        {
          "output_type": "stream",
          "name": "stdout",
          "text": [
            "17\n",
            "4\n",
            "0\n",
            "4\n",
            "14\n",
            "True\n",
            "False\n"
          ]
        }
      ]
    },
    {
      "cell_type": "code",
      "source": [
        "texto = \"Josiane é legal\"\n",
        "#Deixa as primeiras letra em maiusculo\n",
        "print(texto.title())\n",
        "#Só traz a primeira letra Maiusculo\n",
        "print(texto.capitalize())\n",
        "#Todas maiuscula\n",
        "print(texto.upper())\n",
        "#Deixa tudo minusculo\n",
        "print(texto.lower())\n",
        "#inverte o que esta maiusculo para minusculo e vice e versa\n",
        "print(texto.swapcase())"
      ],
      "metadata": {
        "colab": {
          "base_uri": "https://localhost:8080/"
        },
        "id": "59hJ4ZYpSIBJ",
        "outputId": "b93d0fbf-857f-42c9-d18e-42615b23424c"
      },
      "execution_count": 12,
      "outputs": [
        {
          "output_type": "stream",
          "name": "stdout",
          "text": [
            "Josiane É Legal\n",
            "Josiane é legal\n",
            "JOSIANE É LEGAL\n",
            "josiane é legal\n",
            "jOSIANE É LEGAL\n"
          ]
        }
      ]
    },
    {
      "cell_type": "code",
      "source": [
        "texto = \" PYTHON \"\n",
        "print(len(texto))\n",
        "#remove os espaços das extremidades (Len para contar o caracter para ver que tirou o espaço)\n",
        "print(texto.strip())\n",
        "print(len(texto.strip()))\n",
        "#remove o espaço do inicio\n",
        "print(texto.rstrip())\n",
        "print(len(texto.rstrip()))\n",
        "#remove o espaço do final\n",
        "print(texto.lstrip())\n",
        "print(len(texto.lstrip()))\n",
        "#Troca o nome\n",
        "print(texto.replace(\"PYTHON\", \"JOSIANE\"))"
      ],
      "metadata": {
        "colab": {
          "base_uri": "https://localhost:8080/"
        },
        "id": "xPHxGU2BUhfa",
        "outputId": "755d4420-b083-4676-c698-f0083a2ca8a1"
      },
      "execution_count": 16,
      "outputs": [
        {
          "output_type": "stream",
          "name": "stdout",
          "text": [
            "8\n",
            "PYTHON\n",
            "6\n",
            " PYTHON\n",
            "7\n",
            "PYTHON \n",
            "7\n",
            " JOSIANE \n"
          ]
        }
      ]
    },
    {
      "cell_type": "code",
      "source": [
        "frase = \"Josi é Legal\"\n",
        "#separa o texto em espaço\n",
        "print(frase.split())\n",
        "#Imprime a posição ex. zero é o Josi\n",
        "print(frase.split()[0])\n",
        "#imprime a primeira posição\n",
        "print(frase.split()[0][0])\n",
        "#transforma em espaço\n",
        "print(frase.split(\"Josi\"))\n"
      ],
      "metadata": {
        "colab": {
          "base_uri": "https://localhost:8080/"
        },
        "id": "yj18mObSVpy5",
        "outputId": "baac4055-ebb9-4b2a-88ec-2b31f0f274b3"
      },
      "execution_count": 21,
      "outputs": [
        {
          "output_type": "stream",
          "name": "stdout",
          "text": [
            "['Josi', 'é', 'Legal']\n",
            "Josi\n",
            "J\n",
            "['', ' é Legal']\n"
          ]
        }
      ]
    },
    {
      "cell_type": "code",
      "source": [
        "#Fatiamento\n",
        "alfabeto = \"ABCDEFGHI\"\n",
        "#vai imprimir a posição zero até a um pois a ultima é exclusiva\n",
        "print(alfabeto[0:2])\n",
        "#da zero para a 2\n",
        "print(alfabeto[:3])\n",
        "#vai da 2 até o final\n",
        "print(alfabeto[2:])\n",
        "#pula de 1 em 1\n",
        "print(alfabeto[::1])\n",
        "#pula de 2 em 2\n",
        "print(alfabeto[::2])\n",
        "#inverter a string\n",
        "print(alfabeto[::-1])\n",
        "#\n",
        "print(alfabeto[-5:7])\n",
        "#\n",
        "print(alfabeto[0:8])\n",
        "print(alfabeto[0:9])\n",
        "print(alfabeto[0:10])"
      ],
      "metadata": {
        "colab": {
          "base_uri": "https://localhost:8080/"
        },
        "id": "nijDOL1IW0NB",
        "outputId": "b97007eb-e104-49c6-de54-41def9256ffb"
      },
      "execution_count": 25,
      "outputs": [
        {
          "output_type": "stream",
          "name": "stdout",
          "text": [
            "AB\n",
            "ABC\n",
            "CDEFGHI\n",
            "ABCDEFGHI\n",
            "ACEGI\n",
            "IHGFEDCBA\n",
            "EFG\n",
            "ABCDEFGH\n",
            "ABCDEFGHI\n",
            "ABCDEFGHI\n"
          ]
        }
      ]
    }
  ]
}