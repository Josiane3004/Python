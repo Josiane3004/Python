{
  "nbformat": 4,
  "nbformat_minor": 0,
  "metadata": {
    "colab": {
      "provenance": []
    },
    "kernelspec": {
      "name": "python3",
      "display_name": "Python 3"
    },
    "language_info": {
      "name": "python"
    }
  },
  "cells": [
    {
      "cell_type": "code",
      "execution_count": null,
      "metadata": {
        "id": "MB1SKJBMDYmR"
      },
      "outputs": [],
      "source": [
        "if condicao:\n",
        "  \"bloco verdadeiro\""
      ]
    },
    {
      "cell_type": "code",
      "source": [
        "idade = int(input(\"Digite sua idade: \"))\n",
        "if idade >= 18:\n",
        "  print(\"Você é maior de idade e pode votar!\")"
      ],
      "metadata": {
        "colab": {
          "base_uri": "https://localhost:8080/"
        },
        "id": "vv_zaSa6D0vp",
        "outputId": "5e462cc3-2032-4d76-e113-547553b074e7"
      },
      "execution_count": 2,
      "outputs": [
        {
          "output_type": "stream",
          "name": "stdout",
          "text": [
            "Digite sua idade: 13\n",
            "Você é menor de idade e ainda não pode votar!\n"
          ]
        }
      ]
    },
    {
      "cell_type": "code",
      "source": [
        "idade = int(input(\"Digite sua idade: \"))\n",
        "if idade >= 18:\n",
        "  print(\"Você é maior de idade e pode votar!\")\n",
        "else:\n",
        "  print(\"Você é menor de idade e ainda não pode votar!\")"
      ],
      "metadata": {
        "id": "QsaIBZ5sEYm6"
      },
      "execution_count": null,
      "outputs": []
    },
    {
      "cell_type": "code",
      "source": [
        "idade = int(input(\"Digite sua idade: \"))\n",
        "if idade >= 18:\n",
        "  votou = input(\"Você já votou? Sim ou Não ?: \")\n",
        "  if votou == \"Sim\":\n",
        "    print(\"Obrigado por participar!\")\n",
        "  else:\n",
        "    if votou == \"Não\":\n",
        "      print(\"Por favor comparecer a um local de votação!\")\n",
        "    elif votou == \"Não sei\":\n",
        "      print(\"Verifique antes de ir ao local de votação!\")\n",
        "    else:\n",
        "      print(\"Opção invalida!\")\n",
        "else:\n",
        "  print(\"Você é menor de idade e ainda não pode votar!\")"
      ],
      "metadata": {
        "colab": {
          "base_uri": "https://localhost:8080/"
        },
        "id": "UAZhLaYUFYfN",
        "outputId": "458cd7f9-be0b-420a-deac-b659afe3cec4"
      },
      "execution_count": 9,
      "outputs": [
        {
          "output_type": "stream",
          "name": "stdout",
          "text": [
            "Digite sua idade: 18\n",
            "Você já votou? Sim ou Não ?: kkk\n",
            "Opção invalida!\n"
          ]
        }
      ]
    },
    {
      "cell_type": "code",
      "source": [],
      "metadata": {
        "id": "f5-oXDluHDc8"
      },
      "execution_count": null,
      "outputs": []
    }
  ]
}