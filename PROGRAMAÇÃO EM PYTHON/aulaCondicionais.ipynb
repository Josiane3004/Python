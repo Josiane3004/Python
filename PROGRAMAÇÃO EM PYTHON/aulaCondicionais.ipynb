{
  "nbformat": 4,
  "nbformat_minor": 0,
  "metadata": {
    "colab": {
      "provenance": []
    },
    "kernelspec": {
      "name": "python3",
      "display_name": "Python 3"
    },
    "language_info": {
      "name": "python"
    }
  },
  "cells": [
    {
      "cell_type": "code",
      "execution_count": null,
      "metadata": {
        "id": "MB1SKJBMDYmR"
      },
      "outputs": [],
      "source": [
        "if condicao:\n",
        "  \"bloco verdadeiro\""
      ]
    },
    {
      "cell_type": "code",
      "source": [
        "idade = int(input(\"Digite sua idade: \"))\n",
        "if idade >= 18:\n",
        "  print(\"Você é maior de idade e pode votar!\")"
      ],
      "metadata": {
        "colab": {
          "base_uri": "https://localhost:8080/"
        },
        "id": "vv_zaSa6D0vp",
        "outputId": "5e462cc3-2032-4d76-e113-547553b074e7"
      },
      "execution_count": null,
      "outputs": [
        {
          "output_type": "stream",
          "name": "stdout",
          "text": [
            "Digite sua idade: 13\n",
            "Você é menor de idade e ainda não pode votar!\n"
          ]
        }
      ]
    },
    {
      "cell_type": "code",
      "source": [
        "idade = int(input(\"Digite sua idade: \"))\n",
        "if idade >= 18:\n",
        "  print(\"Você é maior de idade e pode votar!\")\n",
        "else:\n",
        "  print(\"Você é menor de idade e ainda não pode votar!\")"
      ],
      "metadata": {
        "id": "QsaIBZ5sEYm6"
      },
      "execution_count": null,
      "outputs": []
    },
    {
      "cell_type": "code",
      "source": [
        "idade = int(input(\"Digite sua idade: \"))\n",
        "if idade >= 18:\n",
        "  votou = input(\"Você já votou? Sim ou Não ?: \")\n",
        "  if votou == \"Sim\":\n",
        "    print(\"Obrigado por participar!\")\n",
        "  else:\n",
        "    if votou == \"Não\":\n",
        "      print(\"Por favor comparecer a um local de votação!\")\n",
        "    elif votou == \"Não sei\":\n",
        "      print(\"Verifique antes de ir ao local de votação!\")\n",
        "    else:\n",
        "      print(\"Opção invalida!\")\n",
        "else:\n",
        "  print(\"Você é menor de idade e ainda não pode votar!\")"
      ],
      "metadata": {
        "colab": {
          "base_uri": "https://localhost:8080/"
        },
        "id": "UAZhLaYUFYfN",
        "outputId": "458cd7f9-be0b-420a-deac-b659afe3cec4"
      },
      "execution_count": null,
      "outputs": [
        {
          "output_type": "stream",
          "name": "stdout",
          "text": [
            "Digite sua idade: 18\n",
            "Você já votou? Sim ou Não ?: kkk\n",
            "Opção invalida!\n"
          ]
        }
      ]
    },
    {
      "cell_type": "code",
      "source": [
        "if 5 >=10 and 10 < 5 or 10> 5:\n",
        "  print(\"Bloco Verdadeiro\")"
      ],
      "metadata": {
        "colab": {
          "base_uri": "https://localhost:8080/"
        },
        "id": "f5-oXDluHDc8",
        "outputId": "147b2276-c0ca-4f1b-9719-0dd4b3b93e08"
      },
      "execution_count": null,
      "outputs": [
        {
          "output_type": "stream",
          "name": "stdout",
          "text": [
            "Bloco Verdadeiro\n"
          ]
        }
      ]
    },
    {
      "cell_type": "code",
      "source": [
        "nome = \"Oooo\"\n",
        "\n",
        "match nome:\n",
        "  case \"Josiane\":\n",
        "    print(\"Olá Josiane!\")\n",
        "  case \"Heitor\":\n",
        "    print(\"Olá Heitor!\")\n",
        "  case \"Samuel\":\n",
        "    print(\"Olá Samuel!\")\n",
        "  case _:\n",
        "    print(\"Olá! Não sei quem é você\")"
      ],
      "metadata": {
        "colab": {
          "base_uri": "https://localhost:8080/"
        },
        "id": "B4dF6ksX26Rf",
        "outputId": "e36e7051-8c4c-4e01-baf8-acc2fc5e0de2"
      },
      "execution_count": 3,
      "outputs": [
        {
          "output_type": "stream",
          "name": "stdout",
          "text": [
            "Olá! Não sei quem é você\n"
          ]
        }
      ]
    },
    {
      "cell_type": "code",
      "source": [
        "operacao = \"+\"\n",
        "\n",
        "match operacao:\n",
        "  case \"+\":\n",
        "    print(\"Soma\" , 2+2)\n",
        "  case \"-\":\n",
        "    print(\"Subtração\", 5-3)\n",
        "  case \"*\":\n",
        "    print(\"Multiplicação\" , 3*3)\n",
        "  case \"/\":\n",
        "    print(\"Divisão\", 10/2)\n",
        "  case _:\n",
        "    print(\"Operação invalida!\")\n",
        ""
      ],
      "metadata": {
        "colab": {
          "base_uri": "https://localhost:8080/"
        },
        "id": "TgGKvsFj3t8Q",
        "outputId": "32c3990b-e7cd-4d22-f874-83f2b8297441"
      },
      "execution_count": 9,
      "outputs": [
        {
          "output_type": "stream",
          "name": "stdout",
          "text": [
            "Operação invalida!\n"
          ]
        }
      ]
    },
    {
      "cell_type": "code",
      "source": [
        "#ternario\n",
        "nota = 6\n",
        "\n",
        "if nota >=9:\n",
        "  print(\"Aprovado\")\n",
        "elif nota >=7:\n",
        "  print(\"Recuperação\")\n",
        "else:\n",
        "  print(\"Reprovado\")"
      ],
      "metadata": {
        "colab": {
          "base_uri": "https://localhost:8080/"
        },
        "id": "ck88UCtt4QCp",
        "outputId": "f4eb9b71-6e91-4011-b754-5a7bc8f0d59a"
      },
      "execution_count": 11,
      "outputs": [
        {
          "output_type": "stream",
          "name": "stdout",
          "text": [
            "Reprovado\n"
          ]
        }
      ]
    },
    {
      "cell_type": "code",
      "source": [
        "#nesse caso ele imprime as duas opções , por isso o correto não é usar o if varias vezes\n",
        "nota = 9\n",
        "\n",
        "if nota >=9:\n",
        "  print(\"Aprovado\")\n",
        "if nota >=7:\n",
        "  print(\"Recuperação\")\n",
        "else:\n",
        "  print(\"Reprovado\")"
      ],
      "metadata": {
        "colab": {
          "base_uri": "https://localhost:8080/"
        },
        "id": "jvGfEDR-5UVp",
        "outputId": "2f67abf9-7d14-4980-fcb3-86884959d606"
      },
      "execution_count": 14,
      "outputs": [
        {
          "output_type": "stream",
          "name": "stdout",
          "text": [
            "Aprovado\n",
            "Recuperação\n"
          ]
        }
      ]
    },
    {
      "cell_type": "code",
      "source": [
        "#simplificando em uma linha\n",
        "nota = 5\n",
        "\n",
        "print(\"Aprovado\" if nota >=9 else \"Recuperação\" if nota >=7 else \"Reprovado\")"
      ],
      "metadata": {
        "colab": {
          "base_uri": "https://localhost:8080/"
        },
        "id": "foS5uT5M6i6D",
        "outputId": "84a44de1-de02-425f-9567-9a813abba334"
      },
      "execution_count": 15,
      "outputs": [
        {
          "output_type": "stream",
          "name": "stdout",
          "text": [
            "Reprovado\n"
          ]
        }
      ]
    }
  ]
}