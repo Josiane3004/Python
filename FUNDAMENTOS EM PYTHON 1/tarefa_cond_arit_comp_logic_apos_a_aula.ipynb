{
  "cells": [
    {
      "cell_type": "markdown",
      "metadata": {
        "id": "1L0fotIC3aha"
      },
      "source": []
    },
    {
      "cell_type": "markdown",
      "metadata": {
        "id": "dvj2nxsf3lJv"
      },
      "source": [
        "Exercício 2 Escreva um programa que pergunte a velocidade do carro de um usuário. Caso ultrapasse 80 km/h, exiba uma mensagem dizendo que o usuário foi multado. Nesse caso exiba o valor da multa, cobrando R$ 5.00 por km acima de 80 km/h."
      ]
    },
    {
      "cell_type": "code",
      "execution_count": null,
      "metadata": {
        "colab": {
          "base_uri": "https://localhost:8080/"
        },
        "id": "LljwLPOW3nxP",
        "outputId": "4db41861-e934-4942-b4ab-a4cabf38c989"
      },
      "outputs": [
        {
          "name": "stdout",
          "output_type": "stream",
          "text": [
            "INFORME A VELODICADE  km/h ATUAL DO CARRO :100\n",
            "VOCÊ FOI MULTADO SUA VELOCIDADE EXCEDEU EM 20km/h E SUA MULTA É DE R$ 100\n"
          ]
        }
      ],
      "source": [
        "velocidade = int(input(\"INFORME A VELODICADE  km/h ATUAL DO CARRO :\"))\n",
        "if velocidade > 80:\n",
        "  execedica = (velocidade - 80)\n",
        "  multa     = execedica  * 5\n",
        "  print(f\"VOCÊ FOI MULTADO SUA VELOCIDADE EXCEDEU EM {execedica}km/h E SUA MULTA É DE R$ {multa}\")\n",
        "else: print(f\"VOCÊ ESTA DENTRO DA VELOCIDADE PERMITIDA\")\n"
      ]
    },
    {
      "cell_type": "markdown",
      "metadata": {
        "id": "jd_GEWB035VH"
      },
      "source": [
        "Exercício 3 Elaborar um software que efetue a entrada de um valor numérico inteiro não negativo diferente de cinco. Em caso afirmativo, o programa deve calcular e exibir o resultado da raiz quadrada do valor fornecido; caso contrário, o programa deve apresentar o resultado da raiz cúbica do valor fornecido. Se o valor fornecido for negativo, o programa não deve executar nenhuma ação, apenas ser encerrado.\n"
      ]
    },
    {
      "cell_type": "code",
      "execution_count": null,
      "metadata": {
        "colab": {
          "base_uri": "https://localhost:8080/"
        },
        "id": "YTmcHDiV5sJY",
        "outputId": "b806ab27-fdd7-4ed1-9022-0de70f7039ad"
      },
      "outputs": [
        {
          "name": "stdout",
          "output_type": "stream",
          "text": [
            "NUMERO INTEIRO:5\n",
            "RAIZ CUBICA DO NUMERO INFORMADO É 1.7099759466766968\n"
          ]
        }
      ],
      "source": [
        "numero = int(input(\"NUMERO INTEIRO:\"))\n",
        "if numero != 5 and numero > 0:\n",
        "  raizQ = numero ** (1/2)\n",
        "  print(f\"RAIZ QUADRADA DO NUMERO INFORMADO É {raizQ}\")\n",
        "elif numero == 5:\n",
        "  raizC = numero ** (1/3)\n",
        "  print(f\"RAIZ CUBICA DO NUMERO INFORMADO É {raizC}\")"
      ]
    },
    {
      "cell_type": "markdown",
      "metadata": {
        "id": "ZipWvISo36aw"
      },
      "source": [
        "Exercício 4 Escreva um programa que leia três números com ponto flutuante e que imprima o maior e o menor."
      ]
    },
    {
      "cell_type": "code",
      "execution_count": null,
      "metadata": {
        "colab": {
          "base_uri": "https://localhost:8080/"
        },
        "id": "b9OG0ys67zoQ",
        "outputId": "b70c45fc-016b-42e1-c9bf-58bb057db7c3"
      },
      "outputs": [
        {
          "name": "stdout",
          "output_type": "stream",
          "text": [
            "1º NUMERO REAL :5\n",
            "2º NUMERO REAL :4\n",
            "3º NUMERO REAL :3\n",
            "MAIOR NUMERO INFORMADO É 5.0\n",
            "MENOR NUMERO INFORMADO É 3.0\n"
          ]
        }
      ],
      "source": [
        "numero1 = float(input(\"1º NUMERO REAL :\"))\n",
        "numero2 = float(input(\"2º NUMERO REAL :\"))\n",
        "numero3 = float(input(\"3º NUMERO REAL :\"))\n",
        "m_maior = 0.00;\n",
        "m_menor = 0.00;\n",
        "if numero1 > numero2 and numero1 > numero3:\n",
        "  m_maior = numero1\n",
        "  if numero2 < numero3:\n",
        "    m_menor = numero2\n",
        "  else: m_menor = numero3\n",
        "elif numero2 > numero1 and numero2 > numero3:\n",
        "  m_maior = numero2\n",
        "  if numero1 < numero3:\n",
        "    m_menor = numero1\n",
        "  else: m_menor = numero3\n",
        "elif numero3 > numero1 and numero1 > numero2:\n",
        "  m_maior = numero3\n",
        "  if numero1 < numero2:\n",
        "    m_menor = numero1\n",
        "  else: m_menor = numero2\n",
        "print(f\"MAIOR NUMERO INFORMADO É {m_maior}\")\n",
        "print(f\"MENOR NUMERO INFORMADO É {m_menor}\")\n"
      ]
    },
    {
      "cell_type": "markdown",
      "metadata": {
        "id": "pATJU7UL3-Ag"
      },
      "source": [
        "Exercício 5 Desenvolver um programa de computador que leia um valor numérico inteiro que esteja na faixa de valores entre 20 e 90. O programa deve apresentar a mensagem \"O valor está na faixa permitida\", caso o valor informado esteja entre 20 e 90. Se o valor estiver fora da faixa permitida, o programa deve apresentar a mensagem \"O valor está fora da faixa permitida\"."
      ]
    },
    {
      "cell_type": "code",
      "execution_count": null,
      "metadata": {
        "colab": {
          "base_uri": "https://localhost:8080/"
        },
        "id": "3Fwc31KUAr1A",
        "outputId": "b069b5a3-39de-49b3-fd36-f3d6286ebb28"
      },
      "outputs": [
        {
          "name": "stdout",
          "output_type": "stream",
          "text": [
            " INFORME UM NUMERO ENTR 20 E 90 :10\n",
            "VALOR DIGITADO 10 ESTA FORA NA FAIXA DE 20 E 90\n"
          ]
        }
      ],
      "source": [
        "numero = int(input(\" INFORME UM NUMERO ENTR 20 E 90 :\"))\n",
        "if numero >= 20 and numero <= 90:\n",
        "  print(f\"VALOR DIGITADO {numero} ESTA NA FAIXA DE 20 E 90\")\n",
        "else: print(f\"VALOR DIGITADO {numero} ESTA FORA NA FAIXA DE 20 E 90\")"
      ]
    },
    {
      "cell_type": "markdown",
      "metadata": {
        "id": "C2VjxpO74A9f"
      },
      "source": []
    },
    {
      "cell_type": "markdown",
      "metadata": {
        "id": "jdxTcEHV4GvQ"
      },
      "source": [
        "Exercício 6 Desenvolver um programa de computador que calcule o reajuste de salário de um colaborador de uma empresa. Considere que o colaborador deve receber um reajuste de 15% caso seu salário seja menor que 500. Se o salário for maior ou igual a 500, mas menor ou igual a 1000, seu reajuste será de 10%; caso seja ainda maior que 1000, o reajuste deve ser de 5%."
      ]
    },
    {
      "cell_type": "code",
      "execution_count": null,
      "metadata": {
        "colab": {
          "base_uri": "https://localhost:8080/"
        },
        "id": "PWlikNUODCzQ",
        "outputId": "ebadc091-108d-4fd3-97c9-df972d537c64"
      },
      "outputs": [
        {
          "name": "stdout",
          "output_type": "stream",
          "text": [
            "INFORME O SALARIO DO COLABORADOR:100\n",
            "SEU NO SALARIO E R$  115.0 COM REAJUSTE DE R$  15.0 \n"
          ]
        }
      ],
      "source": [
        "salario     = float(input(\"INFORME O SALARIO DO COLABORADOR:\"))\n",
        "\n",
        "if salario < 500:\n",
        "  m_reajuste = salario * 0.15;\n",
        "  novo_salario = round(salario * 1.15,2)\n",
        "  print(f\"SEU NO SALARIO E R$  {novo_salario} COM REAJUSTE DE R$  {m_reajuste} \")\n",
        "elif salario >= 500 and salario <= 100:\n",
        "  m_reajuste = salario * 0.15;\n",
        "  novo_salario = round(salario * 1.10,2)\n",
        "  print(f\"SEU NO SALARIO E R$ {novo_salario} COM REAJUSTE DE R$  {m_reajuste} \")\n",
        "else:\n",
        "  m_reajuste = salario * 0.15;\n",
        "  novo_salario = round(salario * 1.05,2)\n",
        "  print(f\"SEU NO SALARIO E R$  {novo_salario} COM REAJUSTE DE R$  {m_reajuste} \")"
      ]
    },
    {
      "cell_type": "markdown",
      "metadata": {
        "id": "2lvEJ2lJDCTw"
      },
      "source": []
    },
    {
      "cell_type": "markdown",
      "metadata": {
        "id": "lNAiFZy84HrX"
      },
      "source": [
        "Exercício 7 Escreva um programa que calcule o preço a pagar pelo fornecimento de energia elétrica. Pergunte a quantidade de KWh consumida e o tipo de instalação: R para residências, I para indústrias e C para comércios. Calcule o preço a pagar de acordo com a tabela de FAIXA DE CONSUMO em anexo."
      ]
    },
    {
      "cell_type": "code",
      "execution_count": 28,
      "metadata": {
        "colab": {
          "base_uri": "https://localhost:8080/"
        },
        "id": "YRRXKunDE0m4",
        "outputId": "da6279cc-5681-4bc6-9fd4-e82ca20a21f1"
      },
      "outputs": [
        {
          "name": "stdout",
          "output_type": "stream",
          "text": [
            "INFORME SEU CONSUMO EM KWh/MES:100\n",
            "INFORME O TIPO DE ESTABELECIMENTO CONFORME LISTA ABAIXO\n",
            "R - ESTABELECIMENTO RESIDENCIAL\n",
            "I - ESTABELECIMENTO INDUSTRIAL\n",
            "C - ESTABELECIMENTO COMERCIAL\n",
            "INFORME O ESTABELECIMENTO:F\n",
            "VALOR CONTA PARA O TIPO INVÁLIDA É  R$ 0.00\n"
          ]
        }
      ],
      "source": [
        "klwats = float(input(\"INFORME SEU CONSUMO EM KWh/MES:\"))\n",
        "print(\"INFORME O TIPO DE ESTABELECIMENTO CONFORME LISTA ABAIXO\")\n",
        "print(\"R - ESTABELECIMENTO RESIDENCIAL\")\n",
        "print(\"I - ESTABELECIMENTO INDUSTRIAL\")\n",
        "print(\"C - ESTABELECIMENTO COMERCIAL\")\n",
        "\n",
        "tipo = str(input(\"INFORME O ESTABELECIMENTO:\"))\n",
        "tipo = tipo.upper()\n",
        "\n",
        "\n",
        "if tipo == 'R':\n",
        "  if  klwats <= 500 :\n",
        "    valor_conta     = klwats * 0.40\n",
        "  else:valor_conta  = klwats * 0.65\n",
        "elif tipo == 'I':\n",
        "  if  klwats <= 5000 :\n",
        "    valor_conta     = klwats * 0.55\n",
        "  else:valor_conta  = klwats * 0.60\n",
        "elif tipo == 'C':\n",
        "  if  klwats <= 1000 :\n",
        "    valor_conta     = klwats * 0.55\n",
        "  else:valor_conta  = klwats * 0.60\n",
        "else:\n",
        "   tipo        = \"INVÁLIDA\"\n",
        "   valor_conta = 0.00;\n",
        "\n",
        "print(f\"VALOR CONTA PARA O TIPO {tipo} É  R$ {valor_conta:.2f}\")\n",
        "\n"
      ]
    },
    {
      "cell_type": "code",
      "execution_count": 32,
      "metadata": {
        "colab": {
          "base_uri": "https://localhost:8080/"
        },
        "id": "IAdR5RdyzBPq",
        "outputId": "e1b80596-9fee-4bfb-d3fd-fd8819336086"
      },
      "outputs": [
        {
          "name": "stdout",
          "output_type": "stream",
          "text": [
            "INFORME SEU CONSUMO EM KWh/MES:500\n",
            "INFORME O TIPO DE ESTABELECIMENTO CONFORME LISTA ABAIXO\n",
            "R - ESTABELECIMENTO RESIDENCIAL\n",
            "I - ESTABELECIMENTO INDUSTRIAL\n",
            "C - ESTABELECIMENTO COMERCIAL\n",
            "INFORME O ESTABELECIMENTO:r\n",
            "VALOR CONTA PARA O TIPO R É  R$ 200.00\n"
          ]
        }
      ],
      "source": [
        "klwats = float(input(\"INFORME SEU CONSUMO EM KWh/MES:\"))\n",
        "print(\"INFORME O TIPO DE ESTABELECIMENTO CONFORME LISTA ABAIXO\")\n",
        "print(\"R - ESTABELECIMENTO RESIDENCIAL\")\n",
        "print(\"I - ESTABELECIMENTO INDUSTRIAL\")\n",
        "print(\"C - ESTABELECIMENTO COMERCIAL\")\n",
        "\n",
        "tipo = str(input(\"INFORME O ESTABELECIMENTO:\"))\n",
        "tipo = tipo.upper()\n",
        "\n",
        "\n",
        "match  tipo:\n",
        " case \"R\":\n",
        "  if  klwats <= 500 :\n",
        "    valor_conta     = klwats * 0.40\n",
        "  else:valor_conta  = klwats * 0.65\n",
        " case \"C\":\n",
        "  if  klwats <= 5000 :\n",
        "    valor_conta     = klwats * 0.55\n",
        "  else:valor_conta  = klwats * 0.60\n",
        " case \"I\":\n",
        "  if  klwats <= 1000 :\n",
        "    valor_conta     = klwats * 0.55\n",
        "  else:valor_conta  = klwats * 0.60\n",
        " case _:\n",
        "   tipo        = \"INVÁLIDA\"\n",
        "   valor_conta = 0.00;\n",
        "\n",
        "print(f\"VALOR CONTA PARA O TIPO {tipo} É  R$ {valor_conta:.2f}\")"
      ]
    }
  ],
  "metadata": {
    "colab": {
      "provenance": []
    },
    "kernelspec": {
      "display_name": "Python 3",
      "name": "python3"
    },
    "language_info": {
      "name": "python"
    }
  },
  "nbformat": 4,
  "nbformat_minor": 0
}
