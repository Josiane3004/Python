{
  "nbformat": 4,
  "nbformat_minor": 0,
  "metadata": {
    "colab": {
      "provenance": []
    },
    "kernelspec": {
      "name": "python3",
      "display_name": "Python 3"
    },
    "language_info": {
      "name": "python"
    }
  },
  "cells": [
    {
      "cell_type": "markdown",
      "source": [
        "Exercício 2 Escreva um programa que pergunte a velocidade do carro de um usuário. Caso ultrapasse 80 km/h, exiba uma mensagem dizendo que o usuário foi multado. Nesse caso exiba o valor da multa, cobrando R$ 5.00 por km acima de 80 km/h.\n"
      ],
      "metadata": {
        "id": "RrJSP67-3Y6e"
      }
    },
    {
      "cell_type": "code",
      "source": [
        "velocidade = int(input(\"Digite a velocidade do carro: \") )\n",
        "permitido = 80\n",
        "if velocidade > permitido:\n",
        "   print(\"Você foi multado\")\n",
        "   multa = (velocidade - permitido) * 5\n",
        "   print(\"O valor da multa é: \", multa)\n",
        "elif velocidade < permitido:\n",
        "    print(\"Parabens, você esta dentro da velocidade permitida\")"
      ],
      "metadata": {
        "colab": {
          "base_uri": "https://localhost:8080/"
        },
        "id": "8SewN7iz3a8t",
        "outputId": "9c171617-282c-45a5-daee-89f909c4141f"
      },
      "execution_count": null,
      "outputs": [
        {
          "output_type": "stream",
          "name": "stdout",
          "text": [
            "Digite a velocidade do carro: 90\n",
            "Você foi multado\n",
            "O valor da multa é:  50\n"
          ]
        }
      ]
    },
    {
      "cell_type": "markdown",
      "source": [
        "Exercício 3 Elaborar um software que efetue a entrada de um valor numérico inteiro não negativo diferente de cinco. Em caso afirmativo, o programa deve calcular e exibir o resultado da raiz quadrada do valor fornecido; caso contrário, o programa deve apresentar o resultado da raiz cúbica do valor fornecido. Se o valor fornecido for negativo, o programa não deve executar nenhuma ação, apenas ser encerrado.\n"
      ],
      "metadata": {
        "id": "2DdPsw6M3jx2"
      }
    },
    {
      "cell_type": "code",
      "source": [
        "numero = int(input(\"Digite um valor numerico: \") )\n",
        "if numero !=5 and numero > 0:\n",
        "   resultado1=(numero**(1/2) )\n",
        "   print(resultado1)\n",
        "\n",
        "elif numero == 5:\n",
        "   resultado2=(numero**(1/3) )\n",
        "   print(resultado2)\n"
      ],
      "metadata": {
        "colab": {
          "base_uri": "https://localhost:8080/"
        },
        "id": "K-FA0mRP3n7m",
        "outputId": "f3e919f9-4cab-4aeb-c404-cda638e41753"
      },
      "execution_count": null,
      "outputs": [
        {
          "name": "stdout",
          "output_type": "stream",
          "text": [
            "Digite um valor numerico: -2\n"
          ]
        }
      ]
    },
    {
      "cell_type": "markdown",
      "source": [
        "Exercício 4 Escreva um programa que leia três números com ponto flutuante e que imprima o maior e o menor."
      ],
      "metadata": {
        "id": "HbhV37lL3oSt"
      }
    },
    {
      "cell_type": "code",
      "source": [
        "numero1 = int(input(\"Digite o primeiro numero: \") )\n",
        "numero2 = int(input(\"Digite o segundo  numero: \") )\n",
        "numero3 = int(input(\"Digite o terceiro numero: \") )\n",
        "if numero1 > numero2 and numero1 > numero3:\n",
        "  m_maior = numero1\n",
        "  if numero2 < numero3:\n",
        "      m_menor = numero2\n",
        "  else: m_menor = numero3\n",
        "elif numero2 > numero1 and numero2 > numero3:\n",
        "  m_maior = numero2\n",
        "  if numero1 < numero3:\n",
        "      m_menor = numero1\n",
        "  else: m_menor = numero3\n",
        "elif numero3 > numero1 and numero3 > numero2:\n",
        "  m_maior = numero3\n",
        "  if numero1 < numero2:\n",
        "      m_menor = numero1\n",
        "  else: m_menor = numero2\n",
        "\n",
        "print(f\"Esse é o menor numero {m_menor} \")\n",
        "print(f\"Esse é o maior numero {m_maior} \")\n"
      ],
      "metadata": {
        "colab": {
          "base_uri": "https://localhost:8080/"
        },
        "id": "P4Se4xql3saE",
        "outputId": "33803b67-5669-49af-88a7-de33b751fac3"
      },
      "execution_count": null,
      "outputs": [
        {
          "output_type": "stream",
          "name": "stdout",
          "text": [
            "Digite o primeiro numero: 3\n",
            "Digite o segundo  numero: 2\n",
            "Digite o terceiro numero: 5\n",
            "Esse é o menor numero 2 \n",
            "Esse é o maior numero 5 \n"
          ]
        }
      ]
    },
    {
      "cell_type": "markdown",
      "source": [
        "Exercício 5 Desenvolver um programa de computador que leia um valor numérico inteiro que esteja na faixa de valores entre 20 e 90. O programa deve apresentar a mensagem \"O valor está na faixa permitida\", caso o valor informado esteja entre 20 e 90. Se o valor estiver fora da faixa permitida, o programa deve apresentar a mensagem \"O valor está fora da faixa permitida\"."
      ],
      "metadata": {
        "id": "SiH8N9zt3sxN"
      }
    },
    {
      "cell_type": "code",
      "source": [
        "numero = int(input(\"Digite um valor numerico: \") )\n",
        "if numero >= 20 and numero <= 90:\n",
        "      print(\"O valor está na faixa permitida\")\n",
        "else:\n",
        "      print(\"O valor está fora da faixa permitida\")\n"
      ],
      "metadata": {
        "colab": {
          "base_uri": "https://localhost:8080/"
        },
        "id": "BsczLZHZ3w01",
        "outputId": "e800e53a-0cbe-4ef3-ab7a-e22463f90c18"
      },
      "execution_count": null,
      "outputs": [
        {
          "output_type": "stream",
          "name": "stdout",
          "text": [
            "Digite um valor numerico: 91\n",
            "O valor está fora da faixa permitida\n"
          ]
        }
      ]
    },
    {
      "cell_type": "markdown",
      "source": [
        "Exercício 6 Desenvolver um programa de computador que calcule o reajuste de salário de um colaborador de uma empresa. Considere que o colaborador deve receber um reajuste de 15% caso seu salário seja menor que 500. Se o salário for maior ou igual a 500, mas menor ou igual a 1000, seu reajuste será de 10%; caso seja ainda maior que 1000, o reajuste deve ser de 5%."
      ],
      "metadata": {
        "id": "WJe-E7GR3xOd"
      }
    },
    {
      "cell_type": "code",
      "source": [
        "salario = int(input(\"Digite o salario do colaborador: \") )\n",
        "reajuste = salario * 0.15\n",
        "reajuste2 = salario * 0.10\n",
        "reajuste3 = salario * 0.05\n",
        "if salario <500:\n",
        "  print(f\"Esse é o reajuste do salario {reajuste}\")\n",
        "elif salario >= 500 and salario <= 1000:\n",
        "  print(f\"Esse é o reajuste do salario {reajuste2}\")\n",
        "elif salario > 1000:\n",
        "  print(f\"Esse é o reajuste do salario {reajuste3}\")\n"
      ],
      "metadata": {
        "colab": {
          "base_uri": "https://localhost:8080/"
        },
        "id": "cLOA4BG531w2",
        "outputId": "ab82e8ae-cf31-44f6-cc2d-711e67ca8f4a"
      },
      "execution_count": null,
      "outputs": [
        {
          "output_type": "stream",
          "name": "stdout",
          "text": [
            "Digite o salario do colaborador: 1001\n",
            "Esse é o reajuste do salario 50.050000000000004\n"
          ]
        }
      ]
    },
    {
      "cell_type": "markdown",
      "source": [
        "Exercício 7 Escreva um programa que calcule o preço a pagar pelo fornecimento de energia elétrica. Pergunte a quantidade de KWh consumida e o tipo de instalação: R para residências, I para indústrias e C para comércios. Calcule o preço a pagar de acordo com a tabela de FAIXA DE CONSUMO em anexo."
      ],
      "metadata": {
        "id": "O6CLZgs132Iu"
      }
    },
    {
      "cell_type": "code",
      "source": [
        "KWh = int(input(\"Digite a quantidade de KWh consumida: \") )\n",
        "tipo = str(input(\"Digite o tipo de instalação R(Residencial), I(Industrial) ou C(Comercial): \") )\n",
        "residencial = KWh * 0.40\n",
        "residencial2 = KWh * 0.65\n",
        "comercial = KWh * 0.55\n",
        "comercial_2 = KWh * 0.60\n",
        "industrial = KWh * 0.55\n",
        "industrial_2 = KWh * 0.60\n",
        "if tipo == \"R\" and KWh <= 500:\n",
        "  print(f\"Esse é o valor a pagar {residencial}\")\n",
        "elif tipo == \"R\" and KWh > 500:\n",
        "  print(f\"Esse é o valor a pagar {residencial2}\")\n",
        "\n",
        "if tipo == \"C\" and KWh <= 1000:\n",
        "     print(f\"Esse é o valor a pagar {comercial}\")\n",
        "elif tipo == \"C\" and KWh > 1000:\n",
        "      print(f\"Esse é o valor a pagar {comercial_2}\")\n",
        "\n",
        "if tipo == \"I\" and KWh <= 5000:\n",
        "         print(f\"Esse é o valor a pagar {industrial}\")\n",
        "elif tipo == \"I\" and KWh > 5000:\n",
        "           print(f\"Esse é o valor a pagar {industrial_2}\")\n"
      ],
      "metadata": {
        "colab": {
          "base_uri": "https://localhost:8080/"
        },
        "id": "GkZ9HaIT3691",
        "outputId": "009feaaf-6fc5-4857-9e2f-f095059f85ee"
      },
      "execution_count": null,
      "outputs": [
        {
          "output_type": "stream",
          "name": "stdout",
          "text": [
            "Digite a quantidade de KWh consumida: 500\n",
            "Digite o tipo de instalação R(Residencial), I(Industrial) ou C(Comercial): I\n",
            "Esse é o valor a pagar 275.0\n"
          ]
        }
      ]
    }
  ]
}